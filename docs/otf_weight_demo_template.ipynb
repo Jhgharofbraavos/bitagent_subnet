{
 "cells": [
  {
   "cell_type": "markdown",
   "metadata": {},
   "source": [
    "# SN20 - BitAgent\n",
    "\n",
    "This demo notebook should fufill the following tasks.\n",
    " - (A) Demonstrate the quality of the communication between miners and validators coming from the top miner.\n",
    " - (B) Justify the difference in incentive for miners in different tiers (eg.quantile 1 VS quantile 3).\n",
    " - (C) (If applicable) Show the landscape and variety of miners. \n",
    " - (D) (If applicable) Demonstrate the effectiveness of the scoring mechanism.\n",
    " - (E) (If applicable) Show the dataset that was used by the validator.\n",
    " - (F) (If applicable) Show the use of any API and/or links to a frontend.\n",
    " \n",
    "## Objective\n",
    ">  SN20 focuses on providing LLM-guided tool execution. There is 1 type of task with several sub types:\n",
    "> - Single Tool Call Task - given a single tool, call that tool with the correct arguments  \n",
    "> - Multi Tool Call Task - given a list of serveral tools, call the correct tool with the correct arguments\n",
    "> - Irrelevant Tool Call Task - given a list of serveral tools, do not call any tools\n",
    "> - And many more to come ... multi-step, parallel, etc."
   ]
  },
  {
   "cell_type": "markdown",
   "metadata": {},
   "source": [
    "## Setup\n",
    "> Provide your hotkey and coldkey \\\n",
    "> Modify any other config you need like the openai api base url for your mistral 7b llm"
   ]
  },
  {
   "cell_type": "code",
   "execution_count": 1,
   "metadata": {},
   "outputs": [],
   "source": [
    "%%capture\n",
    "\n",
    "# to clear the notebook params from the argument list for argparser\n",
    "import sys\n",
    "sys.argv = ['']\n",
    "\n",
    "import bittensor as bt \n",
    "from rich import print as rprint\n",
    "from neurons.validator import Validator\n",
    "from IPython.display import display_markdown\n",
    "from bitagent.tasks.task import get_random_task\n",
    "from bitagent.validator.initiation import initiate_validator\n",
    "\n",
    "SUBNET_UID = 20\n",
    "# working with subnet\n",
    "#subnet = bt.metagraph(netuid=SUBNET_UID, network=\"finney\")\n",
    "#vali_wallet =  bt.wallet(name=WALLET_NAME, hotkey=HOTKEY_NAME, path=WALLET_PATH)\n",
    "#vali_dendrite = bt.dendrite(wallet=vali_wallet)\n",
    "\n",
    "# Wallet \n",
    "WALLET_NAME = # TODO, put your coldkey\n",
    "HOTKEY_NAME = # TODO, put your hotkey\n",
    "WALLET_PATH = # TODO, put your wallet path\n",
    "\n",
    "# setup the config for the validator\n",
    "cfg = bt.Config()\n",
    "cfg.wallet = {\"name\": WALLET_NAME, \"hotkey\": HOTKEY_NAME, \"path\": WALLET_PATH}\n",
    "cfg.netuid = SUBNET_UID\n",
    "#cfg.openai_api_base = # TODO if you need to set this to the LLM of your choice\n",
    "\n",
    "# setup the validator\n",
    "from unittest.mock import patch\n",
    "\n",
    "# Define your stubbed function for our get_alive_uids so we don't have to check them ALL\n",
    "def stub_get_alive_uids(whatever):\n",
    "    return [1, 2, 3]\n",
    "\n",
    "# Patch the function in our validator module\n",
    "with patch('common.base.validator.get_alive_uids', new=stub_get_alive_uids):\n",
    "    vali = Validator(config=cfg)\n",
    "    initiate_validator(vali)\n"
   ]
  },
  {
   "cell_type": "code",
   "execution_count": 2,
   "metadata": {},
   "outputs": [],
   "source": [
    "task = get_random_task(vali)\n"
   ]
  },
  {
   "cell_type": "code",
   "execution_count": 3,
   "metadata": {},
   "outputs": [
    {
     "data": {
      "text/plain": [
       "[{   'desc': '',\n",
       "     'eval_args': [   ],\n",
       "     'eval_fx': <function does_not_error at 0x7fad77aca950>,\n",
       "     'name': 'Does '\n",
       "             'not '\n",
       "             'error'},\n",
       " {   'desc': '',\n",
       "     'eval_args': [   ],\n",
       "     'eval_fx': <function does_not_take_a_long_time at 0x7fad77aca9e0>,\n",
       "     'name': 'Does '\n",
       "             'not '\n",
       "             'take '\n",
       "             'a '\n",
       "             'long '\n",
       "             'time'},\n",
       " {   'desc': '',\n",
       "     'eval_args': [   ],\n",
       "     'eval_fx': <function correct_tool_call_function_format at 0x7fad77acab00>,\n",
       "     'name': 'Return '\n",
       "             'correct '\n",
       "             'function '\n",
       "             'format'},\n",
       " {   'desc': '',\n",
       "     'eval_args': [   {   'arguments': {   'company_name': [   'Apple '\n",
       "                                                               'Inc.',\n",
       "                                                               'Apple'],\n",
       "                                           'detail_level': [   'detailed'],\n",
       "                                           'market': [   'NASDAQ',\n",
       "                                                         '']},\n",
       "                          'is_ground_truth': True,\n",
       "                          'name': 'get_stock_info'}],\n",
       "     'eval_fx': <function correct_tool_call_function_name at 0x7fad77acac20>,\n",
       "     'name': 'Return '\n",
       "             'correct '\n",
       "             'function '\n",
       "             'name'},\n",
       " {   'desc': '',\n",
       "     'eval_args': [   {   'arguments': {   'company_name': [   'Apple '\n",
       "                                                               'Inc.',\n",
       "                                                               'Apple'],\n",
       "                                           'detail_level': [   'detailed'],\n",
       "                                           'market': [   'NASDAQ',\n",
       "                                                         '']},\n",
       "                          'is_ground_truth': True,\n",
       "                          'name': 'get_stock_info'}],\n",
       "     'eval_fx': <function correct_tool_argument_names at 0x7fad77acacb0>,\n",
       "     'name': 'Return '\n",
       "             'function '\n",
       "             'with '\n",
       "             'correct '\n",
       "             'argument '\n",
       "             'names'},\n",
       " {   'desc': '',\n",
       "     'eval_args': [   {   'arguments': {   'company_name': [   'Apple '\n",
       "                                                               'Inc.',\n",
       "                                                               'Apple'],\n",
       "                                           'detail_level': [   'detailed'],\n",
       "                                           'market': [   'NASDAQ',\n",
       "                                                         '']},\n",
       "                          'is_ground_truth': True,\n",
       "                          'name': 'get_stock_info'}],\n",
       "     'eval_fx': <function correct_tool_argument_values at 0x7fad77acad40>,\n",
       "     'name': 'Return '\n",
       "             'function '\n",
       "             'with '\n",
       "             'correct '\n",
       "             'argument '\n",
       "             'values'}]"
      ]
     },
     "execution_count": 3,
     "metadata": {},
     "output_type": "execute_result"
    }
   ],
   "source": [
    "task.criteria"
   ]
  },
  {
   "cell_type": "code",
   "execution_count": 4,
   "metadata": {},
   "outputs": [
    {
     "data": {
      "text/plain": [
       "[ChatMessage(role=<ChatRole.USER: 'user'>, content='Obtain the detailed stock information for either \"Apple Inc.\" or \"Apple\" in the NASDAQ market.')]"
      ]
     },
     "execution_count": 4,
     "metadata": {},
     "output_type": "execute_result"
    }
   ],
   "source": [
    "task.synapse.messages"
   ]
  },
  {
   "cell_type": "code",
   "execution_count": 5,
   "metadata": {},
   "outputs": [
    {
     "data": {
      "text/plain": [
       "[Tool(name='get_sensor_readings_history_by_interval', description='Retrieves historical sensor readings within a specified timespan, summarized in intervals, and returns them sorted by the start time of each interval in descending order.', arguments={'perPage': {'required': False, 'type': 'integer', 'description': 'Number of entries per page, within the range of 3 to 100.'}, 'startingAfter': {'required': False, 'type': 'string', 'description': 'Server-generated token indicating the start of the page, typically a timestamp or ID.'}, 'endingBefore': {'required': False, 'type': 'string', 'description': 'Server-generated token indicating the end of the page, typically a timestamp or ID.'}, 'networkId': {'required': False, 'type': 'array', 'description': 'Filter data by the specified network IDs.'}, 'serials': {'required': False, 'type': 'array', 'description': 'Filter readings by sensor serial numbers.'}, 'metrics': {'required': False, 'type': 'array', 'description': \"Specify sensor reading types to retrieve, such as 'temperature', 'humidity', 'pressure'. Defaults to all available types if not supplied.\"}, 'timespan': {'required': True, 'type': 'integer', 'description': 'The timespan for fetching data, in seconds. The maximum is equivalent to 730 days and 12 hours.'}, 't0': {'required': False, 'type': 'string', 'description': \"Start of the data timespan, in the ISO 8601 format 'YYYY-MM-DDTHH:MM:SSZ'. The maximum lookback period is 730 days and 12 hours.\"}, 't1': {'required': False, 'type': 'string', 'description': \"End of the data timespan, in the ISO 8601 format 'YYYY-MM-DDTHH:MM:SSZ'. This can be a maximum of 730 days and 12 hours after t0.\"}, 'interval': {'required': False, 'type': 'integer', 'description': 'The time interval in seconds for the data returned. Valid values are 15, 120, 300, 900, 3600, 14400, 86400, or 604800.'}, 'models': {'required': False, 'type': 'array', 'description': \"Filter readings by one or more sensor models. Available models include 'MT10', 'MT11', 'MT12', 'MT14', 'MT20', 'MT30'.\"}}),\n",
       " Tool(name='Buses_3_BuyBusTicket', description='Purchase bus tickets for a specified route, date, and time with the option to include additional luggage.', arguments={'from_city': {'required': True, 'type': 'string', 'description': \"The city of origin for the trip, such as 'New York, NY'.\"}, 'to_city': {'required': True, 'type': 'string', 'description': \"The destination city for the trip, such as 'Boston, MA'.\"}, 'departure_date': {'required': True, 'type': 'string', 'description': \"The date of departure in the format 'YYYY-MM-DD'.\"}, 'departure_time': {'required': True, 'type': 'string', 'description': \"The time of departure in 24-hour format 'HH:MM'.\"}, 'num_passengers': {'required': False, 'type': 'integer', 'description': 'The number of passengers for whom the tickets are being purchased.'}, 'additional_luggage': {'required': False, 'type': 'boolean', 'description': 'Indicates whether additional luggage space is required.'}}),\n",
       " Tool(name='Events_3_BuyEventTickets', description='Purchase tickets for a specified cultural event on a particular date in a specified city.', arguments={'event_name': {'required': True, 'type': 'string', 'description': 'The name of the artist or the play for which tickets are being purchased.'}, 'number_of_tickets': {'required': True, 'type': 'integer', 'description': 'The total number of tickets to be reserved for the event.'}, 'date': {'required': True, 'type': 'string', 'description': \"The date of the event, in the format 'YYYY-MM-DD'.\"}, 'city': {'required': True, 'type': 'string', 'description': \"The city where the event is located, expected in the format of 'City, State', such as 'New York, NY'.\"}}),\n",
       " Tool(name='get_sensor_alerts', description='Retrieve a paginated list of sensor alerts within a specified timespan and optionally filtered by various criteria such as network IDs or sensor metrics.', arguments={'perPage': {'required': False, 'type': 'integer', 'description': 'The number of entries per page returned. Acceptable range is 3 - 100.'}, 'startingAfter': {'required': False, 'type': 'string', 'description': 'A server-generated token indicating the start of the page, such as a timestamp or an ID.'}, 'endingBefore': {'required': False, 'type': 'string', 'description': 'A server-generated token indicating the end of the page, such as a timestamp or an ID.'}, 't0': {'required': False, 'type': 'string', 'description': \"The start of the timespan for the data, formatted as an ISO 8601 timestamp (e.g., '2023-01-01T00:00:00Z'). The maximum lookback period is 365 days from today.\"}, 't1': {'required': False, 'type': 'string', 'description': \"The end of the timespan for the data, formatted as an ISO 8601 timestamp (e.g., '2023-12-31T23:59:59Z'). t1 can be a maximum of 365 days after t0.\"}, 'networkId': {'required': False, 'type': 'array', 'description': 'A list of network IDs to filter the returned data.'}, 'timespan': {'required': False, 'type': 'integer', 'description': 'The timespan for which the information will be fetched in seconds. Do not specify if t0 and t1 are provided. Must be less than or equal to 31,536,000 seconds (365 days).'}, 'sensorSerial': {'required': False, 'type': 'string', 'description': 'The sensor serial number to filter the returned data.'}, 'triggerMetric': {'required': False, 'type': 'string', 'description': 'Filter alerts triggered by a specific metric.'}}),\n",
       " Tool(name='Events_3_FindEvents', description='Finds and lists cultural events, such as concerts and plays, that are scheduled to occur in a specified city.', arguments={'event_type': {'required': True, 'type': 'string', 'description': 'The category of the cultural event.'}, 'city': {'required': True, 'type': 'string', 'description': \"The name of the city where the event is happening, formatted as 'City, State' or 'City' if the city does not have a state. For example, 'New York, NY' or 'Paris'.\"}, 'date': {'required': False, 'type': 'string', 'description': \"The date of the event, formatted as 'YYYY-MM-DD'. If not specified, any date is considered.\"}}),\n",
       " Tool(name='get_sensor_readings_latest', description=\"Retrieves the most recent readings for each metric from each sensor, organized by the sensor's serial number.\", arguments={'perPage': {'required': True, 'type': 'integer', 'description': 'Specifies the number of entries per page. Must be within the range of 3 to 100.'}, 'startingAfter': {'required': False, 'type': 'string', 'description': 'The server-generated token marking the start of the page. Typically a timestamp or ID. If omitted, the server will provide the default starting point.'}, 'endingBefore': {'required': False, 'type': 'string', 'description': 'The server-generated token marking the end of the page. Typically a timestamp or ID. Optional; if omitted, the server will provide the default ending point.'}, 'networkId': {'required': False, 'type': 'array', 'description': 'Filters the returned data by network IDs. If omitted, data for all networks is returned.'}, 'serials': {'required': False, 'type': 'array', 'description': 'Filters readings by sensor serial numbers. If omitted, readings for all sensors are returned.'}, 'metrics': {'required': False, 'type': 'array', 'description': \"Specifies the types of sensor readings to retrieve, such as 'temperature', 'humidity', or 'co2'. If omitted, all available types of readings are retrieved.\"}}),\n",
       " Tool(name='Hotels_2_BookHouse', description=\"Book the selected house for given dates and the specified number of adults. The location must be in the format of 'City, State', such as 'New York, NY'.\", arguments={'where_to': {'required': True, 'type': 'string', 'description': \"The location of the house in the format of 'City, State', such as 'Berkeley, CA' or 'New York, NY'.\"}, 'number_of_adults': {'required': True, 'type': 'integer', 'description': 'The number of adults for the reservation. Must be a positive integer.'}, 'check_in_date': {'required': True, 'type': 'string', 'description': \"The start date for the reservation in the format 'YYYY-MM-DD'.\"}, 'check_out_date': {'required': True, 'type': 'string', 'description': \"The end date for the reservation in the format 'YYYY-MM-DD'.\"}}),\n",
       " Tool(name='get_current_time', description='Retrieve the current time in a specific time zone.', arguments={'location': {'required': True, 'type': 'string', 'description': 'The name of the city.'}, 'country': {'required': True, 'type': 'string', 'description': 'The name of the country.'}, 'timezone': {'required': False, 'type': 'string', 'description': \"The optional timezone to get current time. Default ''\"}}),\n",
       " Tool(name='get_stock_info', description=\"Retrieves information about a specific stock based on company's name.\", arguments={'company_name': {'required': True, 'type': 'string', 'description': 'The name of the company.'}, 'detail_level': {'required': True, 'type': 'string', 'description': \"Level of detail for stock information. Can be 'summary' or 'detailed'.\"}, 'market': {'required': False, 'type': 'string', 'description': \"The stock market of interest. Default is 'NASDAQ'\"}}),\n",
       " Tool(name='get_instagram_story_clicks', description='Sums up the number of clicks from your last Instagram Story campaign.', arguments={'username': {'required': True, 'type': 'str', 'description': 'Your Instagram username'}, 'password': {'required': True, 'type': 'str', 'description': 'Your Instagram password'}}),\n",
       " Tool(name='get_sensor_readings_history', description='Return all reported readings from sensors within a specified timespan, sorted by timestamp. This can include various types of sensor data across different networks and devices.', arguments={'perPage': {'required': False, 'type': 'integer', 'description': 'The number of entries per page returned. Must be within the range of 3 to 100.'}, 'startingAfter': {'required': False, 'type': 'string', 'description': \"A server-side token that represents the start of the page, such as a timestamp in the format 'YYYY-MM-DDTHH:MM:SSZ'. This should not be manually set by the client.\"}, 'endingBefore': {'required': False, 'type': 'string', 'description': \"A server-side token that represents the end of the page, such as a timestamp in the format 'YYYY-MM-DDTHH:MM:SSZ'. This should not be manually set by the client.\"}, 'networkId': {'required': False, 'type': 'array', 'description': 'The network IDs to filter the returned data. If omitted, data from all networks will be included.'}, 'serials': {'required': False, 'type': 'array', 'description': 'Sensor serial numbers to filter the readings by. If omitted, readings from all sensors will be included.'}, 'metrics': {'required': False, 'type': 'array', 'description': \"Types of sensor readings to retrieve, such as 'temperature', 'humidity', 'co2'. If omitted, all available types will be retrieved.\"}, 'timespan': {'required': True, 'type': 'integer', 'description': 'The duration for which sensor data will be fetched, specified in seconds. Maximum value corresponds to 730 days and 12 hours.'}, 't0': {'required': False, 'type': 'string', 'description': \"The start of the timespan for the data, in the format 'YYYY-MM-DDTHH:MM:SSZ'. Maximum lookback is 365 days and 6 hours from today.\"}, 't1': {'required': False, 'type': 'string', 'description': \"The end of the timespan for the data, in the format 'YYYY-MM-DDTHH:MM:SSZ'. 't1' can be at most 7 days after 't0'.\"}}),\n",
       " Tool(name='Buses_3_FindBus', description='Search for a bus itinerary between two specified cities on a given date.', arguments={'from_city': {'required': True, 'type': 'string', 'description': \"The city to depart from, in the format of 'City, State' (e.g., 'Los Angeles, CA').\"}, 'to_city': {'required': True, 'type': 'string', 'description': \"The destination city of the trip, in the format of 'City, State' (e.g., 'New York, NY').\"}, 'departure_date': {'required': True, 'type': 'string', 'description': \"The date of departure, in the format 'YYYY-MM-DD' (e.g., '2023-04-15').\"}, 'num_passengers': {'required': False, 'type': 'integer', 'description': 'The number of tickets required for the trip.'}, 'category': {'required': False, 'type': 'string', 'description': 'The type of bus route based on the number of stops.'}}),\n",
       " Tool(name='Hotels_2_SearchHouse', description='Search for available houses for rent at a specified location with optional filters such as laundry service availability, number of adults, and rating.', arguments={'where_to': {'required': True, 'type': 'string', 'description': \"The location of the house to search for, in the format of 'City, State' or 'City, Country'. For example, 'San Francisco, CA' or 'Paris, France'.\"}, 'has_laundry_service': {'required': False, 'type': 'string', 'description': 'Flag indicating if the house should include laundry service.'}, 'number_of_adults': {'required': False, 'type': 'integer', 'description': \"The number of adults for the reservation. Select 'dontcare' if no specific number is required.\"}, 'rating': {'required': False, 'type': 'float', 'description': \"The minimum review rating of the house on a scale from 1.0 to 5.0, with higher numbers indicating better ratings. Select 'dontcare' to include all ratings.\"}})]"
      ]
     },
     "execution_count": 5,
     "metadata": {},
     "output_type": "execute_result"
    }
   ],
   "source": [
    "task.synapse.tools"
   ]
  },
  {
   "cell_type": "markdown",
   "metadata": {},
   "source": [
    "## (A) Top miner responses\n",
    "- This section should demonstrate the quality of the communication between miners and validators coming from the top miner.\n",
    "\n",
    "> - (1) Define a group of top miner.\n",
    ">\n",
    "> - (2) Define a forward function. \n",
    "> - (3) Call the forward function for the top miners. \n",
    "> - (4) Show the responses from the miners."
   ]
  },
  {
   "cell_type": "code",
   "execution_count": 6,
   "metadata": {
    "scrolled": true
   },
   "outputs": [
    {
     "data": {
      "text/markdown": [
       "### Tool Call Task - Input:\n",
       "#### Messages:\n",
       "[ChatMessage(role=<ChatRole.USER: 'user'>, content='Obtain the detailed stock information for either \"Apple Inc.\" or \"Apple\" in the NASDAQ market.')]\n",
       "\n",
       "#### Available Tools:\n",
       "['get_sensor_readings_history_by_interval', 'Buses_3_BuyBusTicket', 'Events_3_BuyEventTickets', 'get_sensor_alerts', 'Events_3_FindEvents', 'get_sensor_readings_latest', 'Hotels_2_BookHouse', 'get_current_time', 'get_stock_info', 'get_instagram_story_clicks', 'get_sensor_readings_history', 'Buses_3_FindBus', 'Hotels_2_SearchHouse']\n",
       "\n",
       "#### Top 5 Miner UIDs for Subnet 20: [103 157 171 129 220]"
      ]
     },
     "metadata": {},
     "output_type": "display_data"
    },
    {
     "data": {
      "text/markdown": [
       "### <span style=\"color:darkgray\">**Response from 103:**</span> \n",
       "        get_stock_info(company_name='Apple Inc.', detail_level='detailed', market='NASDAQ')"
      ]
     },
     "metadata": {},
     "output_type": "display_data"
    },
    {
     "data": {
      "text/html": [
       "<pre style=\"white-space:pre;overflow-x:auto;line-height:normal;font-family:Menlo,'DejaVu Sans Mono',consolas,'Courier New',monospace\"><span style=\"color: #c0c0c0; text-decoration-color: #c0c0c0; font-weight: bold\">Does not error</span>\n",
       "✅ <span style=\"color: #008000; text-decoration-color: #008000\">You successfully responded to the request.</span>\n",
       "You received <span style=\"color: #008080; text-decoration-color: #008080; font-weight: bold\">0.25</span> of <span style=\"color: #008080; text-decoration-color: #008080; font-weight: bold\">0.25</span> reward.\n",
       "<span style=\"color: #c0c0c0; text-decoration-color: #c0c0c0; font-weight: bold\">Does not take a long time</span>\n",
       "✅ <span style=\"color: #008000; text-decoration-color: #008000\">You responded to the request in </span><span style=\"color: #008000; text-decoration-color: #008000; font-weight: bold\">2.8488552570343018</span><span style=\"color: #008000; text-decoration-color: #008000\">.</span>\n",
       "You received <span style=\"color: #008080; text-decoration-color: #008080; font-weight: bold\">0.5</span> of <span style=\"color: #008080; text-decoration-color: #008080; font-weight: bold\">0.5</span> reward.\n",
       "<span style=\"color: #c0c0c0; text-decoration-color: #c0c0c0; font-weight: bold\">Return correct function format</span>\n",
       "✅ <span style=\"color: #008000; text-decoration-color: #008000\">Your response was in the correct format.</span>\n",
       "You received <span style=\"color: #008080; text-decoration-color: #008080; font-weight: bold\">1.0</span> of <span style=\"color: #008080; text-decoration-color: #008080; font-weight: bold\">1.0</span> reward.\n",
       "<span style=\"color: #c0c0c0; text-decoration-color: #c0c0c0; font-weight: bold\">Return correct function name</span>\n",
       "✅ <span style=\"color: #008000; text-decoration-color: #008000\">Your function name matches the expected function name.</span>\n",
       "You received <span style=\"color: #008080; text-decoration-color: #008080; font-weight: bold\">3.0</span> of <span style=\"color: #008080; text-decoration-color: #008080; font-weight: bold\">3.0</span> reward.\n",
       "<span style=\"color: #c0c0c0; text-decoration-color: #c0c0c0; font-weight: bold\">Return function with correct argument names</span>\n",
       "✅ <span style=\"color: #008000; text-decoration-color: #008000\">Your function has the required argument: company_name</span>\n",
       "✅ <span style=\"color: #008000; text-decoration-color: #008000\">Your function has the required argument: detail_level</span>\n",
       "✅ <span style=\"color: #008000; text-decoration-color: #008000\">Your function has the required argument: market</span>\n",
       "You received <span style=\"color: #008080; text-decoration-color: #008080; font-weight: bold\">3.0</span> of <span style=\"color: #008080; text-decoration-color: #008080; font-weight: bold\">3.0</span> reward.\n",
       "<span style=\"color: #c0c0c0; text-decoration-color: #c0c0c0; font-weight: bold\">Return function with correct argument values</span>\n",
       "✅ <span style=\"color: #008000; text-decoration-color: #008000\">Your function has the required value for argument: company_name</span>\n",
       "✅ <span style=\"color: #008000; text-decoration-color: #008000\">Your function has the required value for argument: detail_level</span>\n",
       "✅ <span style=\"color: #008000; text-decoration-color: #008000\">Your function has the required value for argument: market</span>\n",
       "You received <span style=\"color: #008080; text-decoration-color: #008080; font-weight: bold\">3.0</span> of <span style=\"color: #008080; text-decoration-color: #008080; font-weight: bold\">3.0</span> reward.\n",
       "</pre>\n"
      ],
      "text/plain": [
       "\u001b[1;37mDoes not error\u001b[0m\n",
       "✅ \u001b[32mYou successfully responded to the request.\u001b[0m\n",
       "You received \u001b[1;36m0.25\u001b[0m of \u001b[1;36m0.25\u001b[0m reward.\n",
       "\u001b[1;37mDoes not take a long time\u001b[0m\n",
       "✅ \u001b[32mYou responded to the request in \u001b[0m\u001b[1;32m2.8488552570343018\u001b[0m\u001b[32m.\u001b[0m\n",
       "You received \u001b[1;36m0.5\u001b[0m of \u001b[1;36m0.5\u001b[0m reward.\n",
       "\u001b[1;37mReturn correct function format\u001b[0m\n",
       "✅ \u001b[32mYour response was in the correct format.\u001b[0m\n",
       "You received \u001b[1;36m1.0\u001b[0m of \u001b[1;36m1.0\u001b[0m reward.\n",
       "\u001b[1;37mReturn correct function name\u001b[0m\n",
       "✅ \u001b[32mYour function name matches the expected function name.\u001b[0m\n",
       "You received \u001b[1;36m3.0\u001b[0m of \u001b[1;36m3.0\u001b[0m reward.\n",
       "\u001b[1;37mReturn function with correct argument names\u001b[0m\n",
       "✅ \u001b[32mYour function has the required argument: company_name\u001b[0m\n",
       "✅ \u001b[32mYour function has the required argument: detail_level\u001b[0m\n",
       "✅ \u001b[32mYour function has the required argument: market\u001b[0m\n",
       "You received \u001b[1;36m3.0\u001b[0m of \u001b[1;36m3.0\u001b[0m reward.\n",
       "\u001b[1;37mReturn function with correct argument values\u001b[0m\n",
       "✅ \u001b[32mYour function has the required value for argument: company_name\u001b[0m\n",
       "✅ \u001b[32mYour function has the required value for argument: detail_level\u001b[0m\n",
       "✅ \u001b[32mYour function has the required value for argument: market\u001b[0m\n",
       "You received \u001b[1;36m3.0\u001b[0m of \u001b[1;36m3.0\u001b[0m reward.\n"
      ]
     },
     "metadata": {},
     "output_type": "display_data"
    },
    {
     "data": {
      "text/markdown": [
       "### <span style=\"color:darkgray\">**Response from 157:**</span> \n",
       "        get_stock_info(company_name='Apple Inc.', detail_level='detailed', market='NASDAQ')"
      ]
     },
     "metadata": {},
     "output_type": "display_data"
    },
    {
     "data": {
      "text/html": [
       "<pre style=\"white-space:pre;overflow-x:auto;line-height:normal;font-family:Menlo,'DejaVu Sans Mono',consolas,'Courier New',monospace\"><span style=\"color: #c0c0c0; text-decoration-color: #c0c0c0; font-weight: bold\">Does not error</span>\n",
       "✅ <span style=\"color: #008000; text-decoration-color: #008000\">You successfully responded to the request.</span>\n",
       "You received <span style=\"color: #008080; text-decoration-color: #008080; font-weight: bold\">0.25</span> of <span style=\"color: #008080; text-decoration-color: #008080; font-weight: bold\">0.25</span> reward.\n",
       "<span style=\"color: #c0c0c0; text-decoration-color: #c0c0c0; font-weight: bold\">Does not take a long time</span>\n",
       "✅ <span style=\"color: #008000; text-decoration-color: #008000\">You responded to the request in </span><span style=\"color: #008000; text-decoration-color: #008000; font-weight: bold\">3.6806817054748535</span><span style=\"color: #008000; text-decoration-color: #008000\">.</span>\n",
       "You received <span style=\"color: #008080; text-decoration-color: #008080; font-weight: bold\">0.5</span> of <span style=\"color: #008080; text-decoration-color: #008080; font-weight: bold\">0.5</span> reward.\n",
       "<span style=\"color: #c0c0c0; text-decoration-color: #c0c0c0; font-weight: bold\">Return correct function format</span>\n",
       "✅ <span style=\"color: #008000; text-decoration-color: #008000\">Your response was in the correct format.</span>\n",
       "You received <span style=\"color: #008080; text-decoration-color: #008080; font-weight: bold\">1.0</span> of <span style=\"color: #008080; text-decoration-color: #008080; font-weight: bold\">1.0</span> reward.\n",
       "<span style=\"color: #c0c0c0; text-decoration-color: #c0c0c0; font-weight: bold\">Return correct function name</span>\n",
       "✅ <span style=\"color: #008000; text-decoration-color: #008000\">Your function name matches the expected function name.</span>\n",
       "You received <span style=\"color: #008080; text-decoration-color: #008080; font-weight: bold\">3.0</span> of <span style=\"color: #008080; text-decoration-color: #008080; font-weight: bold\">3.0</span> reward.\n",
       "<span style=\"color: #c0c0c0; text-decoration-color: #c0c0c0; font-weight: bold\">Return function with correct argument names</span>\n",
       "✅ <span style=\"color: #008000; text-decoration-color: #008000\">Your function has the required argument: company_name</span>\n",
       "✅ <span style=\"color: #008000; text-decoration-color: #008000\">Your function has the required argument: detail_level</span>\n",
       "✅ <span style=\"color: #008000; text-decoration-color: #008000\">Your function has the required argument: market</span>\n",
       "You received <span style=\"color: #008080; text-decoration-color: #008080; font-weight: bold\">3.0</span> of <span style=\"color: #008080; text-decoration-color: #008080; font-weight: bold\">3.0</span> reward.\n",
       "<span style=\"color: #c0c0c0; text-decoration-color: #c0c0c0; font-weight: bold\">Return function with correct argument values</span>\n",
       "✅ <span style=\"color: #008000; text-decoration-color: #008000\">Your function has the required value for argument: company_name</span>\n",
       "✅ <span style=\"color: #008000; text-decoration-color: #008000\">Your function has the required value for argument: detail_level</span>\n",
       "✅ <span style=\"color: #008000; text-decoration-color: #008000\">Your function has the required value for argument: market</span>\n",
       "You received <span style=\"color: #008080; text-decoration-color: #008080; font-weight: bold\">3.0</span> of <span style=\"color: #008080; text-decoration-color: #008080; font-weight: bold\">3.0</span> reward.\n",
       "</pre>\n"
      ],
      "text/plain": [
       "\u001b[1;37mDoes not error\u001b[0m\n",
       "✅ \u001b[32mYou successfully responded to the request.\u001b[0m\n",
       "You received \u001b[1;36m0.25\u001b[0m of \u001b[1;36m0.25\u001b[0m reward.\n",
       "\u001b[1;37mDoes not take a long time\u001b[0m\n",
       "✅ \u001b[32mYou responded to the request in \u001b[0m\u001b[1;32m3.6806817054748535\u001b[0m\u001b[32m.\u001b[0m\n",
       "You received \u001b[1;36m0.5\u001b[0m of \u001b[1;36m0.5\u001b[0m reward.\n",
       "\u001b[1;37mReturn correct function format\u001b[0m\n",
       "✅ \u001b[32mYour response was in the correct format.\u001b[0m\n",
       "You received \u001b[1;36m1.0\u001b[0m of \u001b[1;36m1.0\u001b[0m reward.\n",
       "\u001b[1;37mReturn correct function name\u001b[0m\n",
       "✅ \u001b[32mYour function name matches the expected function name.\u001b[0m\n",
       "You received \u001b[1;36m3.0\u001b[0m of \u001b[1;36m3.0\u001b[0m reward.\n",
       "\u001b[1;37mReturn function with correct argument names\u001b[0m\n",
       "✅ \u001b[32mYour function has the required argument: company_name\u001b[0m\n",
       "✅ \u001b[32mYour function has the required argument: detail_level\u001b[0m\n",
       "✅ \u001b[32mYour function has the required argument: market\u001b[0m\n",
       "You received \u001b[1;36m3.0\u001b[0m of \u001b[1;36m3.0\u001b[0m reward.\n",
       "\u001b[1;37mReturn function with correct argument values\u001b[0m\n",
       "✅ \u001b[32mYour function has the required value for argument: company_name\u001b[0m\n",
       "✅ \u001b[32mYour function has the required value for argument: detail_level\u001b[0m\n",
       "✅ \u001b[32mYour function has the required value for argument: market\u001b[0m\n",
       "You received \u001b[1;36m3.0\u001b[0m of \u001b[1;36m3.0\u001b[0m reward.\n"
      ]
     },
     "metadata": {},
     "output_type": "display_data"
    },
    {
     "data": {
      "text/markdown": [
       "### <span style=\"color:darkgray\">**Response from 171:**</span> \n",
       "        get_stock_info(company_name='Apple Inc.', detail_level='detailed', market='NASDAQ')"
      ]
     },
     "metadata": {},
     "output_type": "display_data"
    },
    {
     "data": {
      "text/html": [
       "<pre style=\"white-space:pre;overflow-x:auto;line-height:normal;font-family:Menlo,'DejaVu Sans Mono',consolas,'Courier New',monospace\"><span style=\"color: #c0c0c0; text-decoration-color: #c0c0c0; font-weight: bold\">Does not error</span>\n",
       "✅ <span style=\"color: #008000; text-decoration-color: #008000\">You successfully responded to the request.</span>\n",
       "You received <span style=\"color: #008080; text-decoration-color: #008080; font-weight: bold\">0.25</span> of <span style=\"color: #008080; text-decoration-color: #008080; font-weight: bold\">0.25</span> reward.\n",
       "<span style=\"color: #c0c0c0; text-decoration-color: #c0c0c0; font-weight: bold\">Does not take a long time</span>\n",
       "✅ <span style=\"color: #008000; text-decoration-color: #008000\">You responded to the request in </span><span style=\"color: #008000; text-decoration-color: #008000; font-weight: bold\">3.20733380317688</span><span style=\"color: #008000; text-decoration-color: #008000\">.</span>\n",
       "You received <span style=\"color: #008080; text-decoration-color: #008080; font-weight: bold\">0.5</span> of <span style=\"color: #008080; text-decoration-color: #008080; font-weight: bold\">0.5</span> reward.\n",
       "<span style=\"color: #c0c0c0; text-decoration-color: #c0c0c0; font-weight: bold\">Return correct function format</span>\n",
       "✅ <span style=\"color: #008000; text-decoration-color: #008000\">Your response was in the correct format.</span>\n",
       "You received <span style=\"color: #008080; text-decoration-color: #008080; font-weight: bold\">1.0</span> of <span style=\"color: #008080; text-decoration-color: #008080; font-weight: bold\">1.0</span> reward.\n",
       "<span style=\"color: #c0c0c0; text-decoration-color: #c0c0c0; font-weight: bold\">Return correct function name</span>\n",
       "✅ <span style=\"color: #008000; text-decoration-color: #008000\">Your function name matches the expected function name.</span>\n",
       "You received <span style=\"color: #008080; text-decoration-color: #008080; font-weight: bold\">3.0</span> of <span style=\"color: #008080; text-decoration-color: #008080; font-weight: bold\">3.0</span> reward.\n",
       "<span style=\"color: #c0c0c0; text-decoration-color: #c0c0c0; font-weight: bold\">Return function with correct argument names</span>\n",
       "✅ <span style=\"color: #008000; text-decoration-color: #008000\">Your function has the required argument: company_name</span>\n",
       "✅ <span style=\"color: #008000; text-decoration-color: #008000\">Your function has the required argument: detail_level</span>\n",
       "✅ <span style=\"color: #008000; text-decoration-color: #008000\">Your function has the required argument: market</span>\n",
       "You received <span style=\"color: #008080; text-decoration-color: #008080; font-weight: bold\">3.0</span> of <span style=\"color: #008080; text-decoration-color: #008080; font-weight: bold\">3.0</span> reward.\n",
       "<span style=\"color: #c0c0c0; text-decoration-color: #c0c0c0; font-weight: bold\">Return function with correct argument values</span>\n",
       "✅ <span style=\"color: #008000; text-decoration-color: #008000\">Your function has the required value for argument: company_name</span>\n",
       "✅ <span style=\"color: #008000; text-decoration-color: #008000\">Your function has the required value for argument: detail_level</span>\n",
       "✅ <span style=\"color: #008000; text-decoration-color: #008000\">Your function has the required value for argument: market</span>\n",
       "You received <span style=\"color: #008080; text-decoration-color: #008080; font-weight: bold\">3.0</span> of <span style=\"color: #008080; text-decoration-color: #008080; font-weight: bold\">3.0</span> reward.\n",
       "</pre>\n"
      ],
      "text/plain": [
       "\u001b[1;37mDoes not error\u001b[0m\n",
       "✅ \u001b[32mYou successfully responded to the request.\u001b[0m\n",
       "You received \u001b[1;36m0.25\u001b[0m of \u001b[1;36m0.25\u001b[0m reward.\n",
       "\u001b[1;37mDoes not take a long time\u001b[0m\n",
       "✅ \u001b[32mYou responded to the request in \u001b[0m\u001b[1;32m3.20733380317688\u001b[0m\u001b[32m.\u001b[0m\n",
       "You received \u001b[1;36m0.5\u001b[0m of \u001b[1;36m0.5\u001b[0m reward.\n",
       "\u001b[1;37mReturn correct function format\u001b[0m\n",
       "✅ \u001b[32mYour response was in the correct format.\u001b[0m\n",
       "You received \u001b[1;36m1.0\u001b[0m of \u001b[1;36m1.0\u001b[0m reward.\n",
       "\u001b[1;37mReturn correct function name\u001b[0m\n",
       "✅ \u001b[32mYour function name matches the expected function name.\u001b[0m\n",
       "You received \u001b[1;36m3.0\u001b[0m of \u001b[1;36m3.0\u001b[0m reward.\n",
       "\u001b[1;37mReturn function with correct argument names\u001b[0m\n",
       "✅ \u001b[32mYour function has the required argument: company_name\u001b[0m\n",
       "✅ \u001b[32mYour function has the required argument: detail_level\u001b[0m\n",
       "✅ \u001b[32mYour function has the required argument: market\u001b[0m\n",
       "You received \u001b[1;36m3.0\u001b[0m of \u001b[1;36m3.0\u001b[0m reward.\n",
       "\u001b[1;37mReturn function with correct argument values\u001b[0m\n",
       "✅ \u001b[32mYour function has the required value for argument: company_name\u001b[0m\n",
       "✅ \u001b[32mYour function has the required value for argument: detail_level\u001b[0m\n",
       "✅ \u001b[32mYour function has the required value for argument: market\u001b[0m\n",
       "You received \u001b[1;36m3.0\u001b[0m of \u001b[1;36m3.0\u001b[0m reward.\n"
      ]
     },
     "metadata": {},
     "output_type": "display_data"
    },
    {
     "data": {
      "text/markdown": [
       "### <span style=\"color:darkgray\">**Response from 129:**</span> \n",
       "        get_stock_info(company_name='Apple Inc.', detail_level='detailed', market='NASDAQ')"
      ]
     },
     "metadata": {},
     "output_type": "display_data"
    },
    {
     "data": {
      "text/html": [
       "<pre style=\"white-space:pre;overflow-x:auto;line-height:normal;font-family:Menlo,'DejaVu Sans Mono',consolas,'Courier New',monospace\"><span style=\"color: #c0c0c0; text-decoration-color: #c0c0c0; font-weight: bold\">Does not error</span>\n",
       "✅ <span style=\"color: #008000; text-decoration-color: #008000\">You successfully responded to the request.</span>\n",
       "You received <span style=\"color: #008080; text-decoration-color: #008080; font-weight: bold\">0.25</span> of <span style=\"color: #008080; text-decoration-color: #008080; font-weight: bold\">0.25</span> reward.\n",
       "<span style=\"color: #c0c0c0; text-decoration-color: #c0c0c0; font-weight: bold\">Does not take a long time</span>\n",
       "✅ <span style=\"color: #008000; text-decoration-color: #008000\">You responded to the request in </span><span style=\"color: #008000; text-decoration-color: #008000; font-weight: bold\">2.5092313289642334</span><span style=\"color: #008000; text-decoration-color: #008000\">.</span>\n",
       "You received <span style=\"color: #008080; text-decoration-color: #008080; font-weight: bold\">0.5</span> of <span style=\"color: #008080; text-decoration-color: #008080; font-weight: bold\">0.5</span> reward.\n",
       "<span style=\"color: #c0c0c0; text-decoration-color: #c0c0c0; font-weight: bold\">Return correct function format</span>\n",
       "✅ <span style=\"color: #008000; text-decoration-color: #008000\">Your response was in the correct format.</span>\n",
       "You received <span style=\"color: #008080; text-decoration-color: #008080; font-weight: bold\">1.0</span> of <span style=\"color: #008080; text-decoration-color: #008080; font-weight: bold\">1.0</span> reward.\n",
       "<span style=\"color: #c0c0c0; text-decoration-color: #c0c0c0; font-weight: bold\">Return correct function name</span>\n",
       "✅ <span style=\"color: #008000; text-decoration-color: #008000\">Your function name matches the expected function name.</span>\n",
       "You received <span style=\"color: #008080; text-decoration-color: #008080; font-weight: bold\">3.0</span> of <span style=\"color: #008080; text-decoration-color: #008080; font-weight: bold\">3.0</span> reward.\n",
       "<span style=\"color: #c0c0c0; text-decoration-color: #c0c0c0; font-weight: bold\">Return function with correct argument names</span>\n",
       "✅ <span style=\"color: #008000; text-decoration-color: #008000\">Your function has the required argument: company_name</span>\n",
       "✅ <span style=\"color: #008000; text-decoration-color: #008000\">Your function has the required argument: detail_level</span>\n",
       "✅ <span style=\"color: #008000; text-decoration-color: #008000\">Your function has the required argument: market</span>\n",
       "You received <span style=\"color: #008080; text-decoration-color: #008080; font-weight: bold\">3.0</span> of <span style=\"color: #008080; text-decoration-color: #008080; font-weight: bold\">3.0</span> reward.\n",
       "<span style=\"color: #c0c0c0; text-decoration-color: #c0c0c0; font-weight: bold\">Return function with correct argument values</span>\n",
       "✅ <span style=\"color: #008000; text-decoration-color: #008000\">Your function has the required value for argument: company_name</span>\n",
       "✅ <span style=\"color: #008000; text-decoration-color: #008000\">Your function has the required value for argument: detail_level</span>\n",
       "✅ <span style=\"color: #008000; text-decoration-color: #008000\">Your function has the required value for argument: market</span>\n",
       "You received <span style=\"color: #008080; text-decoration-color: #008080; font-weight: bold\">3.0</span> of <span style=\"color: #008080; text-decoration-color: #008080; font-weight: bold\">3.0</span> reward.\n",
       "</pre>\n"
      ],
      "text/plain": [
       "\u001b[1;37mDoes not error\u001b[0m\n",
       "✅ \u001b[32mYou successfully responded to the request.\u001b[0m\n",
       "You received \u001b[1;36m0.25\u001b[0m of \u001b[1;36m0.25\u001b[0m reward.\n",
       "\u001b[1;37mDoes not take a long time\u001b[0m\n",
       "✅ \u001b[32mYou responded to the request in \u001b[0m\u001b[1;32m2.5092313289642334\u001b[0m\u001b[32m.\u001b[0m\n",
       "You received \u001b[1;36m0.5\u001b[0m of \u001b[1;36m0.5\u001b[0m reward.\n",
       "\u001b[1;37mReturn correct function format\u001b[0m\n",
       "✅ \u001b[32mYour response was in the correct format.\u001b[0m\n",
       "You received \u001b[1;36m1.0\u001b[0m of \u001b[1;36m1.0\u001b[0m reward.\n",
       "\u001b[1;37mReturn correct function name\u001b[0m\n",
       "✅ \u001b[32mYour function name matches the expected function name.\u001b[0m\n",
       "You received \u001b[1;36m3.0\u001b[0m of \u001b[1;36m3.0\u001b[0m reward.\n",
       "\u001b[1;37mReturn function with correct argument names\u001b[0m\n",
       "✅ \u001b[32mYour function has the required argument: company_name\u001b[0m\n",
       "✅ \u001b[32mYour function has the required argument: detail_level\u001b[0m\n",
       "✅ \u001b[32mYour function has the required argument: market\u001b[0m\n",
       "You received \u001b[1;36m3.0\u001b[0m of \u001b[1;36m3.0\u001b[0m reward.\n",
       "\u001b[1;37mReturn function with correct argument values\u001b[0m\n",
       "✅ \u001b[32mYour function has the required value for argument: company_name\u001b[0m\n",
       "✅ \u001b[32mYour function has the required value for argument: detail_level\u001b[0m\n",
       "✅ \u001b[32mYour function has the required value for argument: market\u001b[0m\n",
       "You received \u001b[1;36m3.0\u001b[0m of \u001b[1;36m3.0\u001b[0m reward.\n"
      ]
     },
     "metadata": {},
     "output_type": "display_data"
    },
    {
     "data": {
      "text/markdown": [
       "### <span style=\"color:darkgray\">**Response from 220:**</span> \n",
       "        get_stock_info(company_name='Apple Inc.', detail_level='detailed', market='NASDAQ')"
      ]
     },
     "metadata": {},
     "output_type": "display_data"
    },
    {
     "data": {
      "text/html": [
       "<pre style=\"white-space:pre;overflow-x:auto;line-height:normal;font-family:Menlo,'DejaVu Sans Mono',consolas,'Courier New',monospace\"><span style=\"color: #c0c0c0; text-decoration-color: #c0c0c0; font-weight: bold\">Does not error</span>\n",
       "✅ <span style=\"color: #008000; text-decoration-color: #008000\">You successfully responded to the request.</span>\n",
       "You received <span style=\"color: #008080; text-decoration-color: #008080; font-weight: bold\">0.25</span> of <span style=\"color: #008080; text-decoration-color: #008080; font-weight: bold\">0.25</span> reward.\n",
       "<span style=\"color: #c0c0c0; text-decoration-color: #c0c0c0; font-weight: bold\">Does not take a long time</span>\n",
       "✅ <span style=\"color: #008000; text-decoration-color: #008000\">You responded to the request in </span><span style=\"color: #008000; text-decoration-color: #008000; font-weight: bold\">3.1075806617736816</span><span style=\"color: #008000; text-decoration-color: #008000\">.</span>\n",
       "You received <span style=\"color: #008080; text-decoration-color: #008080; font-weight: bold\">0.5</span> of <span style=\"color: #008080; text-decoration-color: #008080; font-weight: bold\">0.5</span> reward.\n",
       "<span style=\"color: #c0c0c0; text-decoration-color: #c0c0c0; font-weight: bold\">Return correct function format</span>\n",
       "✅ <span style=\"color: #008000; text-decoration-color: #008000\">Your response was in the correct format.</span>\n",
       "You received <span style=\"color: #008080; text-decoration-color: #008080; font-weight: bold\">1.0</span> of <span style=\"color: #008080; text-decoration-color: #008080; font-weight: bold\">1.0</span> reward.\n",
       "<span style=\"color: #c0c0c0; text-decoration-color: #c0c0c0; font-weight: bold\">Return correct function name</span>\n",
       "✅ <span style=\"color: #008000; text-decoration-color: #008000\">Your function name matches the expected function name.</span>\n",
       "You received <span style=\"color: #008080; text-decoration-color: #008080; font-weight: bold\">3.0</span> of <span style=\"color: #008080; text-decoration-color: #008080; font-weight: bold\">3.0</span> reward.\n",
       "<span style=\"color: #c0c0c0; text-decoration-color: #c0c0c0; font-weight: bold\">Return function with correct argument names</span>\n",
       "✅ <span style=\"color: #008000; text-decoration-color: #008000\">Your function has the required argument: company_name</span>\n",
       "✅ <span style=\"color: #008000; text-decoration-color: #008000\">Your function has the required argument: detail_level</span>\n",
       "✅ <span style=\"color: #008000; text-decoration-color: #008000\">Your function has the required argument: market</span>\n",
       "You received <span style=\"color: #008080; text-decoration-color: #008080; font-weight: bold\">3.0</span> of <span style=\"color: #008080; text-decoration-color: #008080; font-weight: bold\">3.0</span> reward.\n",
       "<span style=\"color: #c0c0c0; text-decoration-color: #c0c0c0; font-weight: bold\">Return function with correct argument values</span>\n",
       "✅ <span style=\"color: #008000; text-decoration-color: #008000\">Your function has the required value for argument: company_name</span>\n",
       "✅ <span style=\"color: #008000; text-decoration-color: #008000\">Your function has the required value for argument: detail_level</span>\n",
       "✅ <span style=\"color: #008000; text-decoration-color: #008000\">Your function has the required value for argument: market</span>\n",
       "You received <span style=\"color: #008080; text-decoration-color: #008080; font-weight: bold\">3.0</span> of <span style=\"color: #008080; text-decoration-color: #008080; font-weight: bold\">3.0</span> reward.\n",
       "</pre>\n"
      ],
      "text/plain": [
       "\u001b[1;37mDoes not error\u001b[0m\n",
       "✅ \u001b[32mYou successfully responded to the request.\u001b[0m\n",
       "You received \u001b[1;36m0.25\u001b[0m of \u001b[1;36m0.25\u001b[0m reward.\n",
       "\u001b[1;37mDoes not take a long time\u001b[0m\n",
       "✅ \u001b[32mYou responded to the request in \u001b[0m\u001b[1;32m3.1075806617736816\u001b[0m\u001b[32m.\u001b[0m\n",
       "You received \u001b[1;36m0.5\u001b[0m of \u001b[1;36m0.5\u001b[0m reward.\n",
       "\u001b[1;37mReturn correct function format\u001b[0m\n",
       "✅ \u001b[32mYour response was in the correct format.\u001b[0m\n",
       "You received \u001b[1;36m1.0\u001b[0m of \u001b[1;36m1.0\u001b[0m reward.\n",
       "\u001b[1;37mReturn correct function name\u001b[0m\n",
       "✅ \u001b[32mYour function name matches the expected function name.\u001b[0m\n",
       "You received \u001b[1;36m3.0\u001b[0m of \u001b[1;36m3.0\u001b[0m reward.\n",
       "\u001b[1;37mReturn function with correct argument names\u001b[0m\n",
       "✅ \u001b[32mYour function has the required argument: company_name\u001b[0m\n",
       "✅ \u001b[32mYour function has the required argument: detail_level\u001b[0m\n",
       "✅ \u001b[32mYour function has the required argument: market\u001b[0m\n",
       "You received \u001b[1;36m3.0\u001b[0m of \u001b[1;36m3.0\u001b[0m reward.\n",
       "\u001b[1;37mReturn function with correct argument values\u001b[0m\n",
       "✅ \u001b[32mYour function has the required value for argument: company_name\u001b[0m\n",
       "✅ \u001b[32mYour function has the required value for argument: detail_level\u001b[0m\n",
       "✅ \u001b[32mYour function has the required value for argument: market\u001b[0m\n",
       "You received \u001b[1;36m3.0\u001b[0m of \u001b[1;36m3.0\u001b[0m reward.\n"
      ]
     },
     "metadata": {},
     "output_type": "display_data"
    }
   ],
   "source": [
    "top_miner_uids = (-vali.metagraph.I).argsort()[:5]\n",
    "\n",
    "def forward(uids):\n",
    "    responses = vali.dendrite.query(\n",
    "        axons=[vali.metagraph.axons[uid] for uid in uids],\n",
    "        synapse=task.synapse,\n",
    "        deserialize=False,\n",
    "        timeout=10*task.timeout,\n",
    "    )\n",
    "    return responses\n",
    "    \n",
    "display_markdown(f'''### Tool Call Task - Input:\n",
    "#### Messages:\n",
    "{task.synapse.messages}\n",
    "\n",
    "#### Available Tools:\n",
    "{[t.name for t in task.synapse.tools]}\n",
    "\n",
    "#### Top 5 Miner UIDs for Subnet 20: {top_miner_uids}''', raw=True)\n",
    "\n",
    "results = forward(top_miner_uids)\n",
    "for i,result in enumerate(results):\n",
    "    try:\n",
    "        response = result.response\n",
    "        display_markdown(f'''### <span style=\"color:darkgray\">**Response from {top_miner_uids[i]}:**</span> \n",
    "        {response}''', raw=True)\n",
    "        feedbacks = []\n",
    "        for crit in task.criteria:\n",
    "            score, max_score, feedback = crit.evaluate(task, vali, result)\n",
    "            feedbacks.append(feedback)\n",
    "        rprint((\"\\n\").join(feedbacks).replace(\"bold blue\", \"bold white\"))\n",
    "    except Exception as e:\n",
    "        print(result.dendrite.status_code, \" \", result.dendrite.process_time, \" \", e)\n",
    "        print(f\"Miner {top_miner_uids[i]} did not respond correctly\")"
   ]
  },
  {
   "cell_type": "markdown",
   "metadata": {},
   "source": [
    "## (B) Justification for incentive distribution \n",
    "- Justify the difference in incentive for miners in different incentive tiers (eg. sample 5 miners from quantile 1 VS 5 miners from quantile 3) with code.\n",
    "- If there is no significant difference in the incentive distribution, you can also show that miners in the SN have about the same performance in multiple ways.\n",
    "\n",
    "- There could be many reasons for the difference in incentive for miners. \n",
    "    - Case 1: Difference in the quality of response\n",
    "        - Show that miners with higher incentive generally give better answer than those with lower incentive through the following ways\n",
    "            - lower loss; higher accuracy\n",
    "            - human eval for text/ image/ audio quality \n",
    "\n",
    "    - Case 2: Difference in miner avalibility \n",
    "        - Show that given a certain number of trials(100), there are more successful calls to higher incentive miners.\n",
    "        \n",
    "    - Case 3: Difference in latency.\n",
    "        - Show that miners in Q1 generally respond faster than miners in Q3.\n",
    "\n",
    "    - Case 4: Please provide your own justification if the reasons above dosen't fit.\n",
    "\n",
    "> (1) Define the group of high incentive miner VS low incentive miner (you can have ~5 samples from each group, but please feel to make your own definition of high/low incentive miners)\n",
    ">\n",
    "> (2) Make the forward call to the group of high/low incentive miners \n",
    ">\n",
    "> (3) Show the difference in the quality of the high/low incentive miners \n"
   ]
  },
  {
   "cell_type": "code",
   "execution_count": 7,
   "metadata": {},
   "outputs": [
    {
     "data": {
      "text/markdown": [
       "### Tool Call Task - Input:\n",
       "#### Messages:\n",
       "[ChatMessage(role=<ChatRole.USER: 'user'>, content='Obtain the detailed stock information for either \"Apple Inc.\" or \"Apple\" in the NASDAQ market.')]\n",
       "\n",
       "#### Available Tools:\n",
       "['get_sensor_readings_history_by_interval', 'Buses_3_BuyBusTicket', 'Events_3_BuyEventTickets', 'get_sensor_alerts', 'Events_3_FindEvents', 'get_sensor_readings_latest', 'Hotels_2_BookHouse', 'get_current_time', 'get_stock_info', 'get_instagram_story_clicks', 'get_sensor_readings_history', 'Buses_3_FindBus', 'Hotels_2_SearchHouse']\n",
       "\n",
       "#### Bottom 5 Miner UIDs for Subnet 20: [134 111 205  95  99]"
      ]
     },
     "metadata": {},
     "output_type": "display_data"
    },
    {
     "data": {
      "text/markdown": [
       "### <span style=\"color:darkgray\">**Response from 134:**</span> \n",
       "        "
      ]
     },
     "metadata": {},
     "output_type": "display_data"
    },
    {
     "data": {
      "text/html": [
       "<pre style=\"white-space:pre;overflow-x:auto;line-height:normal;font-family:Menlo,'DejaVu Sans Mono',consolas,'Courier New',monospace\"><span style=\"color: #c0c0c0; text-decoration-color: #c0c0c0; font-weight: bold\">Does not error</span>\n",
       "❌ <span style=\"color: #800000; text-decoration-color: #800000\">You failed to respond correctly to the request.</span> Status Code: <span style=\"color: #800080; text-decoration-color: #800080; font-style: italic\">None</span>/<span style=\"color: #008080; text-decoration-color: #008080; font-weight: bold\">503</span>\n",
       "You received <span style=\"color: #008080; text-decoration-color: #008080; font-weight: bold\">0.0</span> of <span style=\"color: #008080; text-decoration-color: #008080; font-weight: bold\">0.25</span> reward.\n",
       "<span style=\"color: #c0c0c0; text-decoration-color: #c0c0c0; font-weight: bold\">Does not take a long time</span>\n",
       "❌ <span style=\"color: #800000; text-decoration-color: #800000\">You likely ran into an error processing this task and failed to respond appropriately.</span>\n",
       "You received <span style=\"color: #008080; text-decoration-color: #008080; font-weight: bold\">0</span> of <span style=\"color: #008080; text-decoration-color: #008080; font-weight: bold\">0.5</span> reward.\n",
       "<span style=\"color: #c0c0c0; text-decoration-color: #c0c0c0; font-weight: bold\">Return correct function format</span>\n",
       "✅ <span style=\"color: #008000; text-decoration-color: #008000\">Your response was in the correct format.</span>\n",
       "You received <span style=\"color: #008080; text-decoration-color: #008080; font-weight: bold\">1.0</span> of <span style=\"color: #008080; text-decoration-color: #008080; font-weight: bold\">1.0</span> reward.\n",
       "<span style=\"color: #c0c0c0; text-decoration-color: #c0c0c0; font-weight: bold\">Return correct function name</span>\n",
       "❌ <span style=\"color: #800000; text-decoration-color: #800000\">Your function name does not match the expected function name.</span>\n",
       "You received <span style=\"color: #008080; text-decoration-color: #008080; font-weight: bold\">-0.5</span> of <span style=\"color: #008080; text-decoration-color: #008080; font-weight: bold\">3.0</span> reward.\n",
       "<span style=\"color: #c0c0c0; text-decoration-color: #c0c0c0; font-weight: bold\">Return function with correct argument names</span>\n",
       "❌ <span style=\"color: #800000; text-decoration-color: #800000\">Your function is missing the required argument: company_name</span>\n",
       "❌ <span style=\"color: #800000; text-decoration-color: #800000\">Your function is missing the required argument: detail_level</span>\n",
       "❌ <span style=\"color: #800000; text-decoration-color: #800000\">Your function is missing the required argument: market</span>\n",
       "You received <span style=\"color: #008080; text-decoration-color: #008080; font-weight: bold\">-3.0</span> of <span style=\"color: #008080; text-decoration-color: #008080; font-weight: bold\">3.0</span> reward.\n",
       "<span style=\"color: #c0c0c0; text-decoration-color: #c0c0c0; font-weight: bold\">Return function with correct argument values</span>\n",
       "❌ <span style=\"color: #800000; text-decoration-color: #800000\">Your function is missing the required argument: company_name</span>\n",
       "❌ <span style=\"color: #800000; text-decoration-color: #800000\">Your function is missing the required argument: detail_level</span>\n",
       "❌ <span style=\"color: #800000; text-decoration-color: #800000\">Your function is missing the required argument: market</span>\n",
       "You received <span style=\"color: #008080; text-decoration-color: #008080; font-weight: bold\">-3.0</span> of <span style=\"color: #008080; text-decoration-color: #008080; font-weight: bold\">3.0</span> reward.\n",
       "</pre>\n"
      ],
      "text/plain": [
       "\u001b[1;37mDoes not error\u001b[0m\n",
       "❌ \u001b[31mYou failed to respond correctly to the request.\u001b[0m Status Code: \u001b[3;35mNone\u001b[0m/\u001b[1;36m503\u001b[0m\n",
       "You received \u001b[1;36m0.0\u001b[0m of \u001b[1;36m0.25\u001b[0m reward.\n",
       "\u001b[1;37mDoes not take a long time\u001b[0m\n",
       "❌ \u001b[31mYou likely ran into an error processing this task and failed to respond appropriately.\u001b[0m\n",
       "You received \u001b[1;36m0\u001b[0m of \u001b[1;36m0.5\u001b[0m reward.\n",
       "\u001b[1;37mReturn correct function format\u001b[0m\n",
       "✅ \u001b[32mYour response was in the correct format.\u001b[0m\n",
       "You received \u001b[1;36m1.0\u001b[0m of \u001b[1;36m1.0\u001b[0m reward.\n",
       "\u001b[1;37mReturn correct function name\u001b[0m\n",
       "❌ \u001b[31mYour function name does not match the expected function name.\u001b[0m\n",
       "You received \u001b[1;36m-0.5\u001b[0m of \u001b[1;36m3.0\u001b[0m reward.\n",
       "\u001b[1;37mReturn function with correct argument names\u001b[0m\n",
       "❌ \u001b[31mYour function is missing the required argument: company_name\u001b[0m\n",
       "❌ \u001b[31mYour function is missing the required argument: detail_level\u001b[0m\n",
       "❌ \u001b[31mYour function is missing the required argument: market\u001b[0m\n",
       "You received \u001b[1;36m-3.0\u001b[0m of \u001b[1;36m3.0\u001b[0m reward.\n",
       "\u001b[1;37mReturn function with correct argument values\u001b[0m\n",
       "❌ \u001b[31mYour function is missing the required argument: company_name\u001b[0m\n",
       "❌ \u001b[31mYour function is missing the required argument: detail_level\u001b[0m\n",
       "❌ \u001b[31mYour function is missing the required argument: market\u001b[0m\n",
       "You received \u001b[1;36m-3.0\u001b[0m of \u001b[1;36m3.0\u001b[0m reward.\n"
      ]
     },
     "metadata": {},
     "output_type": "display_data"
    },
    {
     "data": {
      "text/markdown": [
       "### <span style=\"color:darkgray\">**Response from 111:**</span> \n",
       "        get_stock_info(company_name='Apple Inc.', detail_level='detailed', market='NASDAQ')"
      ]
     },
     "metadata": {},
     "output_type": "display_data"
    },
    {
     "data": {
      "text/html": [
       "<pre style=\"white-space:pre;overflow-x:auto;line-height:normal;font-family:Menlo,'DejaVu Sans Mono',consolas,'Courier New',monospace\"><span style=\"color: #c0c0c0; text-decoration-color: #c0c0c0; font-weight: bold\">Does not error</span>\n",
       "✅ <span style=\"color: #008000; text-decoration-color: #008000\">You successfully responded to the request.</span>\n",
       "You received <span style=\"color: #008080; text-decoration-color: #008080; font-weight: bold\">0.25</span> of <span style=\"color: #008080; text-decoration-color: #008080; font-weight: bold\">0.25</span> reward.\n",
       "<span style=\"color: #c0c0c0; text-decoration-color: #c0c0c0; font-weight: bold\">Does not take a long time</span>\n",
       "✅ <span style=\"color: #008000; text-decoration-color: #008000\">You responded to the request in </span><span style=\"color: #008000; text-decoration-color: #008000; font-weight: bold\">1.7583441734313965</span><span style=\"color: #008000; text-decoration-color: #008000\">.</span>\n",
       "You received <span style=\"color: #008080; text-decoration-color: #008080; font-weight: bold\">0.5</span> of <span style=\"color: #008080; text-decoration-color: #008080; font-weight: bold\">0.5</span> reward.\n",
       "<span style=\"color: #c0c0c0; text-decoration-color: #c0c0c0; font-weight: bold\">Return correct function format</span>\n",
       "✅ <span style=\"color: #008000; text-decoration-color: #008000\">Your response was in the correct format.</span>\n",
       "You received <span style=\"color: #008080; text-decoration-color: #008080; font-weight: bold\">1.0</span> of <span style=\"color: #008080; text-decoration-color: #008080; font-weight: bold\">1.0</span> reward.\n",
       "<span style=\"color: #c0c0c0; text-decoration-color: #c0c0c0; font-weight: bold\">Return correct function name</span>\n",
       "✅ <span style=\"color: #008000; text-decoration-color: #008000\">Your function name matches the expected function name.</span>\n",
       "You received <span style=\"color: #008080; text-decoration-color: #008080; font-weight: bold\">3.0</span> of <span style=\"color: #008080; text-decoration-color: #008080; font-weight: bold\">3.0</span> reward.\n",
       "<span style=\"color: #c0c0c0; text-decoration-color: #c0c0c0; font-weight: bold\">Return function with correct argument names</span>\n",
       "✅ <span style=\"color: #008000; text-decoration-color: #008000\">Your function has the required argument: company_name</span>\n",
       "✅ <span style=\"color: #008000; text-decoration-color: #008000\">Your function has the required argument: detail_level</span>\n",
       "✅ <span style=\"color: #008000; text-decoration-color: #008000\">Your function has the required argument: market</span>\n",
       "You received <span style=\"color: #008080; text-decoration-color: #008080; font-weight: bold\">3.0</span> of <span style=\"color: #008080; text-decoration-color: #008080; font-weight: bold\">3.0</span> reward.\n",
       "<span style=\"color: #c0c0c0; text-decoration-color: #c0c0c0; font-weight: bold\">Return function with correct argument values</span>\n",
       "✅ <span style=\"color: #008000; text-decoration-color: #008000\">Your function has the required value for argument: company_name</span>\n",
       "✅ <span style=\"color: #008000; text-decoration-color: #008000\">Your function has the required value for argument: detail_level</span>\n",
       "✅ <span style=\"color: #008000; text-decoration-color: #008000\">Your function has the required value for argument: market</span>\n",
       "You received <span style=\"color: #008080; text-decoration-color: #008080; font-weight: bold\">3.0</span> of <span style=\"color: #008080; text-decoration-color: #008080; font-weight: bold\">3.0</span> reward.\n",
       "</pre>\n"
      ],
      "text/plain": [
       "\u001b[1;37mDoes not error\u001b[0m\n",
       "✅ \u001b[32mYou successfully responded to the request.\u001b[0m\n",
       "You received \u001b[1;36m0.25\u001b[0m of \u001b[1;36m0.25\u001b[0m reward.\n",
       "\u001b[1;37mDoes not take a long time\u001b[0m\n",
       "✅ \u001b[32mYou responded to the request in \u001b[0m\u001b[1;32m1.7583441734313965\u001b[0m\u001b[32m.\u001b[0m\n",
       "You received \u001b[1;36m0.5\u001b[0m of \u001b[1;36m0.5\u001b[0m reward.\n",
       "\u001b[1;37mReturn correct function format\u001b[0m\n",
       "✅ \u001b[32mYour response was in the correct format.\u001b[0m\n",
       "You received \u001b[1;36m1.0\u001b[0m of \u001b[1;36m1.0\u001b[0m reward.\n",
       "\u001b[1;37mReturn correct function name\u001b[0m\n",
       "✅ \u001b[32mYour function name matches the expected function name.\u001b[0m\n",
       "You received \u001b[1;36m3.0\u001b[0m of \u001b[1;36m3.0\u001b[0m reward.\n",
       "\u001b[1;37mReturn function with correct argument names\u001b[0m\n",
       "✅ \u001b[32mYour function has the required argument: company_name\u001b[0m\n",
       "✅ \u001b[32mYour function has the required argument: detail_level\u001b[0m\n",
       "✅ \u001b[32mYour function has the required argument: market\u001b[0m\n",
       "You received \u001b[1;36m3.0\u001b[0m of \u001b[1;36m3.0\u001b[0m reward.\n",
       "\u001b[1;37mReturn function with correct argument values\u001b[0m\n",
       "✅ \u001b[32mYour function has the required value for argument: company_name\u001b[0m\n",
       "✅ \u001b[32mYour function has the required value for argument: detail_level\u001b[0m\n",
       "✅ \u001b[32mYour function has the required value for argument: market\u001b[0m\n",
       "You received \u001b[1;36m3.0\u001b[0m of \u001b[1;36m3.0\u001b[0m reward.\n"
      ]
     },
     "metadata": {},
     "output_type": "display_data"
    },
    {
     "data": {
      "text/markdown": [
       "### <span style=\"color:darkgray\">**Response from 205:**</span> \n",
       "        get_stock_info(company_name='Apple Inc.', detail_level='detailed', market='NASDAQ')"
      ]
     },
     "metadata": {},
     "output_type": "display_data"
    },
    {
     "data": {
      "text/html": [
       "<pre style=\"white-space:pre;overflow-x:auto;line-height:normal;font-family:Menlo,'DejaVu Sans Mono',consolas,'Courier New',monospace\"><span style=\"color: #c0c0c0; text-decoration-color: #c0c0c0; font-weight: bold\">Does not error</span>\n",
       "✅ <span style=\"color: #008000; text-decoration-color: #008000\">You successfully responded to the request.</span>\n",
       "You received <span style=\"color: #008080; text-decoration-color: #008080; font-weight: bold\">0.25</span> of <span style=\"color: #008080; text-decoration-color: #008080; font-weight: bold\">0.25</span> reward.\n",
       "<span style=\"color: #c0c0c0; text-decoration-color: #c0c0c0; font-weight: bold\">Does not take a long time</span>\n",
       "✅ <span style=\"color: #008000; text-decoration-color: #008000\">You responded to the request in </span><span style=\"color: #008000; text-decoration-color: #008000; font-weight: bold\">1.1692581176757812</span><span style=\"color: #008000; text-decoration-color: #008000\">.</span>\n",
       "You received <span style=\"color: #008080; text-decoration-color: #008080; font-weight: bold\">0.5</span> of <span style=\"color: #008080; text-decoration-color: #008080; font-weight: bold\">0.5</span> reward.\n",
       "<span style=\"color: #c0c0c0; text-decoration-color: #c0c0c0; font-weight: bold\">Return correct function format</span>\n",
       "✅ <span style=\"color: #008000; text-decoration-color: #008000\">Your response was in the correct format.</span>\n",
       "You received <span style=\"color: #008080; text-decoration-color: #008080; font-weight: bold\">1.0</span> of <span style=\"color: #008080; text-decoration-color: #008080; font-weight: bold\">1.0</span> reward.\n",
       "<span style=\"color: #c0c0c0; text-decoration-color: #c0c0c0; font-weight: bold\">Return correct function name</span>\n",
       "✅ <span style=\"color: #008000; text-decoration-color: #008000\">Your function name matches the expected function name.</span>\n",
       "You received <span style=\"color: #008080; text-decoration-color: #008080; font-weight: bold\">3.0</span> of <span style=\"color: #008080; text-decoration-color: #008080; font-weight: bold\">3.0</span> reward.\n",
       "<span style=\"color: #c0c0c0; text-decoration-color: #c0c0c0; font-weight: bold\">Return function with correct argument names</span>\n",
       "✅ <span style=\"color: #008000; text-decoration-color: #008000\">Your function has the required argument: company_name</span>\n",
       "✅ <span style=\"color: #008000; text-decoration-color: #008000\">Your function has the required argument: detail_level</span>\n",
       "✅ <span style=\"color: #008000; text-decoration-color: #008000\">Your function has the required argument: market</span>\n",
       "You received <span style=\"color: #008080; text-decoration-color: #008080; font-weight: bold\">3.0</span> of <span style=\"color: #008080; text-decoration-color: #008080; font-weight: bold\">3.0</span> reward.\n",
       "<span style=\"color: #c0c0c0; text-decoration-color: #c0c0c0; font-weight: bold\">Return function with correct argument values</span>\n",
       "✅ <span style=\"color: #008000; text-decoration-color: #008000\">Your function has the required value for argument: company_name</span>\n",
       "✅ <span style=\"color: #008000; text-decoration-color: #008000\">Your function has the required value for argument: detail_level</span>\n",
       "✅ <span style=\"color: #008000; text-decoration-color: #008000\">Your function has the required value for argument: market</span>\n",
       "You received <span style=\"color: #008080; text-decoration-color: #008080; font-weight: bold\">3.0</span> of <span style=\"color: #008080; text-decoration-color: #008080; font-weight: bold\">3.0</span> reward.\n",
       "</pre>\n"
      ],
      "text/plain": [
       "\u001b[1;37mDoes not error\u001b[0m\n",
       "✅ \u001b[32mYou successfully responded to the request.\u001b[0m\n",
       "You received \u001b[1;36m0.25\u001b[0m of \u001b[1;36m0.25\u001b[0m reward.\n",
       "\u001b[1;37mDoes not take a long time\u001b[0m\n",
       "✅ \u001b[32mYou responded to the request in \u001b[0m\u001b[1;32m1.1692581176757812\u001b[0m\u001b[32m.\u001b[0m\n",
       "You received \u001b[1;36m0.5\u001b[0m of \u001b[1;36m0.5\u001b[0m reward.\n",
       "\u001b[1;37mReturn correct function format\u001b[0m\n",
       "✅ \u001b[32mYour response was in the correct format.\u001b[0m\n",
       "You received \u001b[1;36m1.0\u001b[0m of \u001b[1;36m1.0\u001b[0m reward.\n",
       "\u001b[1;37mReturn correct function name\u001b[0m\n",
       "✅ \u001b[32mYour function name matches the expected function name.\u001b[0m\n",
       "You received \u001b[1;36m3.0\u001b[0m of \u001b[1;36m3.0\u001b[0m reward.\n",
       "\u001b[1;37mReturn function with correct argument names\u001b[0m\n",
       "✅ \u001b[32mYour function has the required argument: company_name\u001b[0m\n",
       "✅ \u001b[32mYour function has the required argument: detail_level\u001b[0m\n",
       "✅ \u001b[32mYour function has the required argument: market\u001b[0m\n",
       "You received \u001b[1;36m3.0\u001b[0m of \u001b[1;36m3.0\u001b[0m reward.\n",
       "\u001b[1;37mReturn function with correct argument values\u001b[0m\n",
       "✅ \u001b[32mYour function has the required value for argument: company_name\u001b[0m\n",
       "✅ \u001b[32mYour function has the required value for argument: detail_level\u001b[0m\n",
       "✅ \u001b[32mYour function has the required value for argument: market\u001b[0m\n",
       "You received \u001b[1;36m3.0\u001b[0m of \u001b[1;36m3.0\u001b[0m reward.\n"
      ]
     },
     "metadata": {},
     "output_type": "display_data"
    },
    {
     "data": {
      "text/markdown": [
       "### <span style=\"color:darkgray\">**Response from 95:**</span> \n",
       "        get_stock_info(company_name='Apple Inc.', detail_level='detailed', market='NASDAQ')"
      ]
     },
     "metadata": {},
     "output_type": "display_data"
    },
    {
     "data": {
      "text/html": [
       "<pre style=\"white-space:pre;overflow-x:auto;line-height:normal;font-family:Menlo,'DejaVu Sans Mono',consolas,'Courier New',monospace\"><span style=\"color: #c0c0c0; text-decoration-color: #c0c0c0; font-weight: bold\">Does not error</span>\n",
       "✅ <span style=\"color: #008000; text-decoration-color: #008000\">You successfully responded to the request.</span>\n",
       "You received <span style=\"color: #008080; text-decoration-color: #008080; font-weight: bold\">0.25</span> of <span style=\"color: #008080; text-decoration-color: #008080; font-weight: bold\">0.25</span> reward.\n",
       "<span style=\"color: #c0c0c0; text-decoration-color: #c0c0c0; font-weight: bold\">Does not take a long time</span>\n",
       "✅ <span style=\"color: #008000; text-decoration-color: #008000\">You responded to the request in </span><span style=\"color: #008000; text-decoration-color: #008000; font-weight: bold\">1.7327539920806885</span><span style=\"color: #008000; text-decoration-color: #008000\">.</span>\n",
       "You received <span style=\"color: #008080; text-decoration-color: #008080; font-weight: bold\">0.5</span> of <span style=\"color: #008080; text-decoration-color: #008080; font-weight: bold\">0.5</span> reward.\n",
       "<span style=\"color: #c0c0c0; text-decoration-color: #c0c0c0; font-weight: bold\">Return correct function format</span>\n",
       "✅ <span style=\"color: #008000; text-decoration-color: #008000\">Your response was in the correct format.</span>\n",
       "You received <span style=\"color: #008080; text-decoration-color: #008080; font-weight: bold\">1.0</span> of <span style=\"color: #008080; text-decoration-color: #008080; font-weight: bold\">1.0</span> reward.\n",
       "<span style=\"color: #c0c0c0; text-decoration-color: #c0c0c0; font-weight: bold\">Return correct function name</span>\n",
       "✅ <span style=\"color: #008000; text-decoration-color: #008000\">Your function name matches the expected function name.</span>\n",
       "You received <span style=\"color: #008080; text-decoration-color: #008080; font-weight: bold\">3.0</span> of <span style=\"color: #008080; text-decoration-color: #008080; font-weight: bold\">3.0</span> reward.\n",
       "<span style=\"color: #c0c0c0; text-decoration-color: #c0c0c0; font-weight: bold\">Return function with correct argument names</span>\n",
       "✅ <span style=\"color: #008000; text-decoration-color: #008000\">Your function has the required argument: company_name</span>\n",
       "✅ <span style=\"color: #008000; text-decoration-color: #008000\">Your function has the required argument: detail_level</span>\n",
       "✅ <span style=\"color: #008000; text-decoration-color: #008000\">Your function has the required argument: market</span>\n",
       "You received <span style=\"color: #008080; text-decoration-color: #008080; font-weight: bold\">3.0</span> of <span style=\"color: #008080; text-decoration-color: #008080; font-weight: bold\">3.0</span> reward.\n",
       "<span style=\"color: #c0c0c0; text-decoration-color: #c0c0c0; font-weight: bold\">Return function with correct argument values</span>\n",
       "✅ <span style=\"color: #008000; text-decoration-color: #008000\">Your function has the required value for argument: company_name</span>\n",
       "✅ <span style=\"color: #008000; text-decoration-color: #008000\">Your function has the required value for argument: detail_level</span>\n",
       "✅ <span style=\"color: #008000; text-decoration-color: #008000\">Your function has the required value for argument: market</span>\n",
       "You received <span style=\"color: #008080; text-decoration-color: #008080; font-weight: bold\">3.0</span> of <span style=\"color: #008080; text-decoration-color: #008080; font-weight: bold\">3.0</span> reward.\n",
       "</pre>\n"
      ],
      "text/plain": [
       "\u001b[1;37mDoes not error\u001b[0m\n",
       "✅ \u001b[32mYou successfully responded to the request.\u001b[0m\n",
       "You received \u001b[1;36m0.25\u001b[0m of \u001b[1;36m0.25\u001b[0m reward.\n",
       "\u001b[1;37mDoes not take a long time\u001b[0m\n",
       "✅ \u001b[32mYou responded to the request in \u001b[0m\u001b[1;32m1.7327539920806885\u001b[0m\u001b[32m.\u001b[0m\n",
       "You received \u001b[1;36m0.5\u001b[0m of \u001b[1;36m0.5\u001b[0m reward.\n",
       "\u001b[1;37mReturn correct function format\u001b[0m\n",
       "✅ \u001b[32mYour response was in the correct format.\u001b[0m\n",
       "You received \u001b[1;36m1.0\u001b[0m of \u001b[1;36m1.0\u001b[0m reward.\n",
       "\u001b[1;37mReturn correct function name\u001b[0m\n",
       "✅ \u001b[32mYour function name matches the expected function name.\u001b[0m\n",
       "You received \u001b[1;36m3.0\u001b[0m of \u001b[1;36m3.0\u001b[0m reward.\n",
       "\u001b[1;37mReturn function with correct argument names\u001b[0m\n",
       "✅ \u001b[32mYour function has the required argument: company_name\u001b[0m\n",
       "✅ \u001b[32mYour function has the required argument: detail_level\u001b[0m\n",
       "✅ \u001b[32mYour function has the required argument: market\u001b[0m\n",
       "You received \u001b[1;36m3.0\u001b[0m of \u001b[1;36m3.0\u001b[0m reward.\n",
       "\u001b[1;37mReturn function with correct argument values\u001b[0m\n",
       "✅ \u001b[32mYour function has the required value for argument: company_name\u001b[0m\n",
       "✅ \u001b[32mYour function has the required value for argument: detail_level\u001b[0m\n",
       "✅ \u001b[32mYour function has the required value for argument: market\u001b[0m\n",
       "You received \u001b[1;36m3.0\u001b[0m of \u001b[1;36m3.0\u001b[0m reward.\n"
      ]
     },
     "metadata": {},
     "output_type": "display_data"
    },
    {
     "data": {
      "text/markdown": [
       "### <span style=\"color:darkgray\">**Response from 99:**</span> \n",
       "        get_stock_info(company_name='Apple Inc.', detail_level='detailed', market='NASDAQ')"
      ]
     },
     "metadata": {},
     "output_type": "display_data"
    },
    {
     "data": {
      "text/html": [
       "<pre style=\"white-space:pre;overflow-x:auto;line-height:normal;font-family:Menlo,'DejaVu Sans Mono',consolas,'Courier New',monospace\"><span style=\"color: #c0c0c0; text-decoration-color: #c0c0c0; font-weight: bold\">Does not error</span>\n",
       "✅ <span style=\"color: #008000; text-decoration-color: #008000\">You successfully responded to the request.</span>\n",
       "You received <span style=\"color: #008080; text-decoration-color: #008080; font-weight: bold\">0.25</span> of <span style=\"color: #008080; text-decoration-color: #008080; font-weight: bold\">0.25</span> reward.\n",
       "<span style=\"color: #c0c0c0; text-decoration-color: #c0c0c0; font-weight: bold\">Does not take a long time</span>\n",
       "✅ <span style=\"color: #008000; text-decoration-color: #008000\">You responded to the request in </span><span style=\"color: #008000; text-decoration-color: #008000; font-weight: bold\">1.7754108905792236</span><span style=\"color: #008000; text-decoration-color: #008000\">.</span>\n",
       "You received <span style=\"color: #008080; text-decoration-color: #008080; font-weight: bold\">0.5</span> of <span style=\"color: #008080; text-decoration-color: #008080; font-weight: bold\">0.5</span> reward.\n",
       "<span style=\"color: #c0c0c0; text-decoration-color: #c0c0c0; font-weight: bold\">Return correct function format</span>\n",
       "✅ <span style=\"color: #008000; text-decoration-color: #008000\">Your response was in the correct format.</span>\n",
       "You received <span style=\"color: #008080; text-decoration-color: #008080; font-weight: bold\">1.0</span> of <span style=\"color: #008080; text-decoration-color: #008080; font-weight: bold\">1.0</span> reward.\n",
       "<span style=\"color: #c0c0c0; text-decoration-color: #c0c0c0; font-weight: bold\">Return correct function name</span>\n",
       "✅ <span style=\"color: #008000; text-decoration-color: #008000\">Your function name matches the expected function name.</span>\n",
       "You received <span style=\"color: #008080; text-decoration-color: #008080; font-weight: bold\">3.0</span> of <span style=\"color: #008080; text-decoration-color: #008080; font-weight: bold\">3.0</span> reward.\n",
       "<span style=\"color: #c0c0c0; text-decoration-color: #c0c0c0; font-weight: bold\">Return function with correct argument names</span>\n",
       "✅ <span style=\"color: #008000; text-decoration-color: #008000\">Your function has the required argument: company_name</span>\n",
       "✅ <span style=\"color: #008000; text-decoration-color: #008000\">Your function has the required argument: detail_level</span>\n",
       "✅ <span style=\"color: #008000; text-decoration-color: #008000\">Your function has the required argument: market</span>\n",
       "You received <span style=\"color: #008080; text-decoration-color: #008080; font-weight: bold\">3.0</span> of <span style=\"color: #008080; text-decoration-color: #008080; font-weight: bold\">3.0</span> reward.\n",
       "<span style=\"color: #c0c0c0; text-decoration-color: #c0c0c0; font-weight: bold\">Return function with correct argument values</span>\n",
       "✅ <span style=\"color: #008000; text-decoration-color: #008000\">Your function has the required value for argument: company_name</span>\n",
       "✅ <span style=\"color: #008000; text-decoration-color: #008000\">Your function has the required value for argument: detail_level</span>\n",
       "✅ <span style=\"color: #008000; text-decoration-color: #008000\">Your function has the required value for argument: market</span>\n",
       "You received <span style=\"color: #008080; text-decoration-color: #008080; font-weight: bold\">3.0</span> of <span style=\"color: #008080; text-decoration-color: #008080; font-weight: bold\">3.0</span> reward.\n",
       "</pre>\n"
      ],
      "text/plain": [
       "\u001b[1;37mDoes not error\u001b[0m\n",
       "✅ \u001b[32mYou successfully responded to the request.\u001b[0m\n",
       "You received \u001b[1;36m0.25\u001b[0m of \u001b[1;36m0.25\u001b[0m reward.\n",
       "\u001b[1;37mDoes not take a long time\u001b[0m\n",
       "✅ \u001b[32mYou responded to the request in \u001b[0m\u001b[1;32m1.7754108905792236\u001b[0m\u001b[32m.\u001b[0m\n",
       "You received \u001b[1;36m0.5\u001b[0m of \u001b[1;36m0.5\u001b[0m reward.\n",
       "\u001b[1;37mReturn correct function format\u001b[0m\n",
       "✅ \u001b[32mYour response was in the correct format.\u001b[0m\n",
       "You received \u001b[1;36m1.0\u001b[0m of \u001b[1;36m1.0\u001b[0m reward.\n",
       "\u001b[1;37mReturn correct function name\u001b[0m\n",
       "✅ \u001b[32mYour function name matches the expected function name.\u001b[0m\n",
       "You received \u001b[1;36m3.0\u001b[0m of \u001b[1;36m3.0\u001b[0m reward.\n",
       "\u001b[1;37mReturn function with correct argument names\u001b[0m\n",
       "✅ \u001b[32mYour function has the required argument: company_name\u001b[0m\n",
       "✅ \u001b[32mYour function has the required argument: detail_level\u001b[0m\n",
       "✅ \u001b[32mYour function has the required argument: market\u001b[0m\n",
       "You received \u001b[1;36m3.0\u001b[0m of \u001b[1;36m3.0\u001b[0m reward.\n",
       "\u001b[1;37mReturn function with correct argument values\u001b[0m\n",
       "✅ \u001b[32mYour function has the required value for argument: company_name\u001b[0m\n",
       "✅ \u001b[32mYour function has the required value for argument: detail_level\u001b[0m\n",
       "✅ \u001b[32mYour function has the required value for argument: market\u001b[0m\n",
       "You received \u001b[1;36m3.0\u001b[0m of \u001b[1;36m3.0\u001b[0m reward.\n"
      ]
     },
     "metadata": {},
     "output_type": "display_data"
    }
   ],
   "source": [
    "# we have our top miners, here are our lower end miners\n",
    "validator_uids = vali.metagraph.uids[vali.metagraph.stake > 20000]\n",
    "bottom_miner_uids = vali.metagraph.I.argsort()[len(validator_uids):len(validator_uids)+5] # remove the validators\n",
    "display_markdown(f'''### Tool Call Task - Input:\n",
    "#### Messages:\n",
    "{task.synapse.messages}\n",
    "\n",
    "#### Available Tools:\n",
    "{[t.name for t in task.synapse.tools]}\n",
    "\n",
    "#### Bottom 5 Miner UIDs for Subnet 20: {bottom_miner_uids}''', raw=True)\n",
    "results = forward(bottom_miner_uids)\n",
    "for i,result in enumerate(results):\n",
    "    try:\n",
    "        response = result.response\n",
    "        display_markdown(f'''### <span style=\"color:darkgray\">**Response from {bottom_miner_uids[i]}:**</span> \n",
    "        {response}''', raw=True)\n",
    "        feedbacks = []\n",
    "        for crit in task.criteria:\n",
    "            score, max_score, feedback = crit.evaluate(task, vali, result)\n",
    "            feedbacks.append(feedback)\n",
    "        rprint((\"\\n\").join(feedbacks).replace(\"bold blue\", \"bold white\"))\n",
    "    except Exception as e:\n",
    "        print(result.dendrite.status_code, \" \", result.dendrite.process_time, \" \", e)\n",
    "        print(f\"Miner {bottom_miner_uids[i]} did not respond correctly\")"
   ]
  },
  {
   "cell_type": "markdown",
   "metadata": {},
   "source": [
    "## (C) (If applicable) Miner landscape\n",
    "- How many unique responses can we get from the network and how many miners are giving the same responses. It is perfectly fine even if all of the miners respond the same thing.\n",
    "> (1) Send the same request to all miners over the SN\n",
    ">\n",
    "> (2) Check the number of unique responses  \n",
    "> \n",
    "> (3) Check the number of miners giving the same response\n",
    "  "
   ]
  },
  {
   "cell_type": "markdown",
   "metadata": {},
   "source": [
    " ## (D) (If applicable) Demonstrate the effectiveness of the scoring mechanism.\n",
    "- If you are using a reward/penalty model: \n",
    "    - Please load the reward or penalty model one by one and then show that the reward of a good response > the reward of a bad response\n",
    "    - Please allow us to customise the input of the reward model\n",
    "\n",
    "    > (1) Load the reward/penalty model one by one \n",
    "    >\n",
    "    > (2) Define the good/bad response\n",
    "    >\n",
    "    > (3) Score the response with the model\n",
    "\n",
    "- Otherwise, you may just give a brief explanation to how does your scoring mechanism works.\n",
    "- Please show the distribution of the final reward and each sub-reward.\n",
    "- Please link us to the original validator code where appropriate."
   ]
  },
  {
   "cell_type": "markdown",
   "metadata": {},
   "source": [
    "\n",
    " ## (E) (If applicable) Show the dataset that was used by the validator.\n",
    " > (1) Load the dataset \n",
    " > \n",
    " > (2) Show the first 10 samples of the dataset \n",
    "- Please link us to the original validator code where appropriate"
   ]
  },
  {
   "cell_type": "markdown",
   "metadata": {},
   "source": [
    " ## (F) (If applicable) Demonstrate the use of any API and/or links to a frontend.\n"
   ]
  },
  {
   "cell_type": "markdown",
   "metadata": {},
   "source": [
    "URL to app: https://gogoagent.ai \\\n",
    "API Endpoint: https://api.gogoagent.ai \\\n",
    "More documentation here - https://docs.google.com/document/d/1QVCzDu0eMmkdglD65F_Q_UjnCJauVEr62WgG8SgACt0\n",
    "\n",
    "### Using the API endpoint"
   ]
  },
  {
   "cell_type": "code",
   "execution_count": 8,
   "metadata": {},
   "outputs": [
    {
     "name": "stdout",
     "output_type": "stream",
     "text": [
      "Chat Response: [tip_calculator(bill_amount=100, tip_percent=10)]\n"
     ]
    }
   ],
   "source": [
    "import openai\n",
    "\n",
    "MODEL_API = \"https://api.gogoagent.ai\"\n",
    "MODEL_NAME = \"BitAgent/GoGoAgent\"\n",
    "\n",
    "# Initialize the OpenAI client\n",
    "client = openai.OpenAI(\n",
    "    api_key= # TODO, put your API key here\n",
    "    base_url=MODEL_API\n",
    ")\n",
    "\n",
    "def tip_calculator(bill_amount, tip_percent):\n",
    "    return bill_amount * tip_percent/100.\n",
    "\n",
    "def another_calculator_for_summation(num1, num2):\n",
    "    return num1 + num2\n",
    "\n",
    "# Pose your user query\n",
    "messages = [{\"role\": \"user\",\n",
    "                    \"content\": \"Need help calculating the tip, what is 10% tip on a bill totalling $100\"}]\n",
    "\n",
    "# Define the tools (see methods above)\n",
    "tools = [{\"name\": \"tip_calculator\", \"description\": \"Calculate the tip amount\",\n",
    "          \"arguments\": {\"bill_amount\": {\"required\": True, \"type\": \"number\",\n",
    "                                        \"description\": \"the bill amount in dollars\"},\n",
    "                        \"tip_percent\": {\"required\": True, \"type\": \"number\",\n",
    "                                        \"description\": \"the tip percentage as a whole number\"},\n",
    "                       }\n",
    "        },\n",
    "        {\"name\": \"another_calculator_for_summation\", \"description\": \"Calculate the sum of two numbers\",\n",
    "          \"arguments\": {\"num1\": {\"required\": True, \"type\": \"number\",\n",
    "                                 \"description\": \"the first number for summation\"},\n",
    "                        \"num2\": {\"required\": True, \"type\": \"number\",\n",
    "                                 \"description\": \"the second number for summation\"},\n",
    "                       }\n",
    "        }]\n",
    "\n",
    "chat_response = client.chat.completions.create(\n",
    "        model=MODEL_NAME,\n",
    "        tools=tools,\n",
    "        messages=messages,\n",
    "    )\n",
    "\n",
    "message = chat_response.choices[0].message.content\n",
    "print(f\"Chat Response: {message}\")"
   ]
  },
  {
   "cell_type": "markdown",
   "metadata": {},
   "source": [
    "#### Notice\n",
    "Since the context was tip related, the tip calculator was passed back, and the summation calculator was not recommended for use.\n",
    "\n",
    "From here, we can now call this method on our end - we have the Tip Calculator."
   ]
  },
  {
   "cell_type": "markdown",
   "metadata": {},
   "source": [
    "## Consent: Do you want this demo notebook to be public? Yes/No  "
   ]
  },
  {
   "cell_type": "markdown",
   "metadata": {},
   "source": [
    "Yes"
   ]
  },
  {
   "cell_type": "code",
   "execution_count": null,
   "metadata": {},
   "outputs": [],
   "source": []
  }
 ],
 "metadata": {
  "kernelspec": {
   "display_name": "Python 3 (ipykernel)",
   "language": "python",
   "name": "python3"
  },
  "language_info": {
   "codemirror_mode": {
    "name": "ipython",
    "version": 3
   },
   "file_extension": ".py",
   "mimetype": "text/x-python",
   "name": "python",
   "nbconvert_exporter": "python",
   "pygments_lexer": "ipython3",
   "version": "3.10.12"
  }
 },
 "nbformat": 4,
 "nbformat_minor": 4
}
